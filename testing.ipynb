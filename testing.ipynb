{
 "cells": [
  {
   "cell_type": "markdown",
   "metadata": {},
   "source": [
    "# Simulation data processing and plotting"
   ]
  },
  {
   "cell_type": "markdown",
   "metadata": {},
   "source": [
    "### Imports"
   ]
  },
  {
   "cell_type": "code",
   "execution_count": 1,
   "metadata": {},
   "outputs": [],
   "source": [
    "# Imports and defaults\n",
    "import numpy as np\n",
    "import pandas as pd\n",
    "import plotly.express as px\n",
    "import plotly.io as pio\n",
    "import plotly.graph_objects as go\n",
    "import pygwalker as pyg\n",
    "\n",
    "pio.templates.default='plotly_white'"
   ]
  },
  {
   "cell_type": "markdown",
   "metadata": {},
   "source": [
    "### Data input cells - base data"
   ]
  },
  {
   "cell_type": "code",
   "execution_count": 2,
   "metadata": {},
   "outputs": [],
   "source": [
    "# Actual ucm comp data plus some other stuff\n",
    "ucm23_sim_energy = 696.64 #kJ\n",
    "ucm23_real_energy = 3.055 #kWh\n",
    "ucm23_real_lap_energy = ucm23_real_energy * 3600/18\n",
    "\n",
    "ucm23_autocross_time_sim = 100.72\n",
    "ucm23_autocross_time_real = 96\n",
    "ucm23_endurance_time_real = 2061\n",
    "ucm23_skidpad_time_sim = 4.89\n",
    "ucm23_skidpad_time_real = 5.25\n",
    "ucm23_accel_time_sim = 4.286 # from john sim\n",
    "ucm23_accel_time_real = 4.24\n",
    "\n"
   ]
  },
  {
   "cell_type": "markdown",
   "metadata": {},
   "source": [
    "### Create car class"
   ]
  },
  {
   "cell_type": "code",
   "execution_count": 3,
   "metadata": {},
   "outputs": [],
   "source": [
    "class Car:\n",
    "\n",
    "    def __init__(self, name, skidpadtime,acceltime,autocrosstime,energyperlap):\n",
    "        self.name = name\n",
    "        self.skidpadtime = skidpadtime\n",
    "        self.acceltime = acceltime\n",
    "        self.autocrosstime = autocrosstime\n",
    "        self.energyperlap = energyperlap\n",
    "\n",
    "        endurance_time = (self.autocrosstime/ucm23_autocross_time_sim) * ucm23_endurance_time_real\n",
    "        efficiency_kWh = (self.energyperlap/ucm23_sim_energy) * ucm23_real_energy\n",
    "        skidpad_time = (self.skidpadtime/ucm23_skidpad_time_sim) * ucm23_skidpad_time_real\n",
    "        accel_time = (self.acceltime/ucm23_accel_time_sim) * ucm23_accel_time_real\n",
    "        autocross_time = (self.autocrosstime/ucm23_autocross_time_sim) * ucm23_autocross_time_real\n",
    "\n",
    "        self.calc_endurance_points(endurance_time)\n",
    "        self.calc_efficiency_points(endurance_time, efficiency_kWh)\n",
    "        self.calc_accel_points(accel_time)\n",
    "        self.calc_skidpad_points(skidpad_time)\n",
    "        self.calc_autocross_points(autocross_time)\n",
    "        self.points_total = self.accel_points + self.autocross_points + self.efficiency_points + self.skidpad_points + self.endurance_points\n",
    "    \n",
    "    def calc_endurance_points(self, time):\n",
    "        t_min_end = 1961\n",
    "        t_max_end = 1.45 * t_min_end\n",
    "        self.endurance_points = 250 * (((t_max_end/time)-1)/((t_max_end/t_min_end)-1))\n",
    "    \n",
    "    def calc_efficiency_points(self, time, efficiency):\n",
    "        endurance_distance = 21.36 # distance of the full course in km\n",
    "\n",
    "        your_laps = 18 # Number of laps completed - assume finish endurance\n",
    "        co2_per_kwh = 0.65 # kg per kwh\n",
    "        your_c02 = efficiency * co2_per_kwh\n",
    "\n",
    "        t_min_efficiency = 1961 # Time elapsed by the team with minimum efficiency time (incl dnfs, but must be efficiency eligible)\n",
    "        laps_tmin = 18 # Number of laps completed by team with minimum endurance time ******\n",
    "\n",
    "        laps_co2min = 18 # Number of laps completed by team with min co2 score\n",
    "        co2_min = 2.59*co2_per_kwh # kg of co2 equivalent minimum from teams\n",
    "\n",
    "        your_efficiency_factor = ((t_min_efficiency/laps_tmin)/(time/your_laps)) * ((co2_min/laps_co2min)/(your_c02/your_laps))\n",
    "        min_efficiency_factor = ((t_min_efficiency/laps_tmin)/(1.45*t_min_efficiency/18)) * ((co2_min/laps_co2min)/(20.02*endurance_distance/18))\n",
    "        efficiency_factor_max = ((t_min_efficiency/laps_tmin)/(2359/18)) * ((co2_min/laps_co2min)/(0.65*2.59/18)) # Max eff factor of all the teams - UNISA\n",
    "\n",
    "        efficiency_points = 100 * (your_efficiency_factor - min_efficiency_factor)/(efficiency_factor_max - min_efficiency_factor)\n",
    "        if efficiency_points >= 100:\n",
    "            efficiency_points = 100\n",
    "\n",
    "        self.efficiency_points = efficiency_points\n",
    "\n",
    "    def calc_accel_points(self, time):\n",
    "        t_min_acc = 3.69 # fastest accel time of all teams\n",
    "        t_max_acc = 1.5 * t_min_acc\n",
    "        self.accel_points = 95.5 * (((t_max_acc/time)-1)/((t_max_acc/t_min_acc)-1)) + 4.5\n",
    "        if self.accel_points > 100:\n",
    "            self.accel_points = 100;\n",
    "    \n",
    "    def calc_skidpad_points(self,time):\n",
    "        t_min_skd = 5.12 # fastest skidpad time\n",
    "        t_max_skd = t_min_skd * 1.25\n",
    "        self.skidpad_points = 71.5 * ((t_max_skd/time)**2 - 1)/((t_max_skd/t_min_skd)**2 - 1) + 3.5\n",
    "    \n",
    "    def calc_autocross_points(self,time):\n",
    "        t_min_aut = 90 #fastest autocross time\n",
    "        t_max_aut = 1.45 * t_min_aut\n",
    "        self.autocross_points = 118.5 * (((t_max_aut/time)-1)/((t_max_aut/t_min_aut)-1)) + 6.5\n",
    "\n",
    "# Create list to store car objects in\n",
    "cars_list = []"
   ]
  },
  {
   "cell_type": "markdown",
   "metadata": {},
   "source": [
    "## Enter Cars by Time and Energy Results\n",
    "### UCM24 Aero"
   ]
  },
  {
   "cell_type": "code",
   "execution_count": 4,
   "metadata": {},
   "outputs": [],
   "source": [
    "cars_list.append(Car('UCM24 Aero', 4.725, 4.034, 97.93, 765.80))"
   ]
  },
  {
   "cell_type": "markdown",
   "metadata": {},
   "source": [
    "### M023"
   ]
  },
  {
   "cell_type": "code",
   "execution_count": 5,
   "metadata": {},
   "outputs": [],
   "source": [
    "cars_list.append(Car('M023', 4.89, 3.69, 97.95, 1201.1))"
   ]
  },
  {
   "cell_type": "markdown",
   "metadata": {},
   "source": [
    "### UCM23 No Aero"
   ]
  },
  {
   "cell_type": "code",
   "execution_count": 6,
   "metadata": {},
   "outputs": [],
   "source": [
    "cars_list.append(Car('UCM23 No Aero', 4.935, 4.3, 101.66, 660.68))"
   ]
  },
  {
   "cell_type": "markdown",
   "metadata": {},
   "source": [
    "### UCM23 Standard"
   ]
  },
  {
   "cell_type": "code",
   "execution_count": 7,
   "metadata": {},
   "outputs": [],
   "source": [
    "cars_list.append(Car('UCM23 Standard', 4.885, 4.286, 100.72, 696.64))\n",
    "\n",
    "cars_list.append(Car('UCM24 No Aero', 4.885, 4.16, 100.56, 619.70))\n"
   ]
  },
  {
   "cell_type": "markdown",
   "metadata": {},
   "source": [
    "### UCM24 No Aero ^"
   ]
  },
  {
   "cell_type": "markdown",
   "metadata": {},
   "source": [
    "## Calculate points for each car and plot"
   ]
  },
  {
   "cell_type": "code",
   "execution_count": 9,
   "metadata": {},
   "outputs": [
    {
     "name": "stdout",
     "output_type": "stream",
     "text": [
      "        CarConfig    Skidpad       Accel   Autocross   Endurance  Efficiency\n",
      "0      UCM24 Aero  78.708951   78.411864  111.333852  232.750861   90.758455\n",
      "1            M023  65.285800  100.000000  111.258678  232.589900   57.735362\n",
      "2   UCM23 No Aero  61.856578   62.024293   97.825456  203.827165  100.000000\n",
      "3  UCM23 Standard  65.672685   62.836085  101.135417  210.914335   97.027546\n",
      "4   UCM24 No Aero  65.672685   70.388091  101.704977  212.133858  100.000000\n",
      "5    Points split  75.000000  100.000000  125.000000  275.000000  100.000000\n",
      "\n",
      "UCM24 Aero| Skidpad: 4.725  Autocross: 97.93  Acceleration: 4.034  Energy per lap: 765.8\n",
      "M023| Skidpad: 4.89  Autocross: 97.95  Acceleration: 3.69  Energy per lap: 1201.1\n",
      "UCM23 No Aero| Skidpad: 4.935  Autocross: 101.66  Acceleration: 4.3  Energy per lap: 660.68\n",
      "UCM23 Standard| Skidpad: 4.885  Autocross: 100.72  Acceleration: 4.286  Energy per lap: 696.64\n",
      "UCM24 No Aero| Skidpad: 4.885  Autocross: 100.56  Acceleration: 4.16  Energy per lap: 619.7\n"
     ]
    },
    {
     "data": {
      "application/vnd.plotly.v1+json": {
       "config": {
        "plotlyServerURL": "https://plot.ly"
       },
       "data": [
        {
         "marker": {
          "color": "#636EFA"
         },
         "name": "Skidpad",
         "text": [
          78.70895056577625,
          65.2857999496095,
          61.85657784121885,
          65.67268548281353,
          65.67268548281353,
          75
         ],
         "textposition": "inside",
         "texttemplate": "%{text:.2f}",
         "type": "bar",
         "x": [
          "UCM24 Aero",
          "M023",
          "UCM23 No Aero",
          "UCM23 Standard",
          "UCM24 No Aero",
          "Points split"
         ],
         "y": [
          78.70895056577625,
          65.2857999496095,
          61.85657784121885,
          65.67268548281353,
          65.67268548281353,
          75
         ]
        },
        {
         "marker": {
          "color": "#EF553B"
         },
         "name": "Accel",
         "text": [
          78.41186413129905,
          100,
          62.0242930013164,
          62.836084905660385,
          70.38809132347603,
          100
         ],
         "textposition": "inside",
         "texttemplate": "%{text:.2f}",
         "type": "bar",
         "x": [
          "UCM24 Aero",
          "M023",
          "UCM23 No Aero",
          "UCM23 Standard",
          "UCM24 No Aero",
          "Points split"
         ],
         "y": [
          78.41186413129905,
          100,
          62.0242930013164,
          62.836084905660385,
          70.38809132347603,
          100
         ]
        },
        {
         "marker": {
          "color": "#00CC96"
         },
         "name": "Autocross",
         "text": [
          111.3338524115865,
          111.25867789688614,
          97.82545576759136,
          101.13541666666667,
          101.70497712808275,
          125
         ],
         "textposition": "inside",
         "texttemplate": "%{text:.2f}",
         "type": "bar",
         "x": [
          "UCM24 Aero",
          "M023",
          "UCM23 No Aero",
          "UCM23 Standard",
          "UCM24 No Aero",
          "Points split"
         ],
         "y": [
          111.3338524115865,
          111.25867789688614,
          97.82545576759136,
          101.13541666666667,
          101.70497712808275,
          125
         ]
        },
        {
         "marker": {
          "color": "#AB63FA"
         },
         "name": "Endurance",
         "text": [
          232.75086104014633,
          232.58990005666595,
          203.82716505448874,
          210.91433500458243,
          212.13385750348482,
          275
         ],
         "textposition": "inside",
         "texttemplate": "%{text:.2f}",
         "type": "bar",
         "x": [
          "UCM24 Aero",
          "M023",
          "UCM23 No Aero",
          "UCM23 Standard",
          "UCM24 No Aero",
          "Points split"
         ],
         "y": [
          232.75086104014633,
          232.58990005666595,
          203.82716505448874,
          210.91433500458243,
          212.13385750348482,
          275
         ]
        },
        {
         "marker": {
          "color": "#FFA15A"
         },
         "name": "Efficiency",
         "text": [
          90.75845532309444,
          57.73536169455776,
          100,
          97.02754574609753,
          100,
          100
         ],
         "textposition": "inside",
         "texttemplate": "%{text:.2f}",
         "type": "bar",
         "x": [
          "UCM24 Aero",
          "M023",
          "UCM23 No Aero",
          "UCM23 Standard",
          "UCM24 No Aero",
          "Points split"
         ],
         "y": [
          90.75845532309444,
          57.73536169455776,
          100,
          97.02754574609753,
          100,
          100
         ]
        }
       ],
       "layout": {
        "barmode": "stack",
        "height": 600,
        "legend": {
         "title": {
          "text": "Events"
         }
        },
        "template": {
         "data": {
          "bar": [
           {
            "error_x": {
             "color": "#2a3f5f"
            },
            "error_y": {
             "color": "#2a3f5f"
            },
            "marker": {
             "line": {
              "color": "white",
              "width": 0.5
             },
             "pattern": {
              "fillmode": "overlay",
              "size": 10,
              "solidity": 0.2
             }
            },
            "type": "bar"
           }
          ],
          "barpolar": [
           {
            "marker": {
             "line": {
              "color": "white",
              "width": 0.5
             },
             "pattern": {
              "fillmode": "overlay",
              "size": 10,
              "solidity": 0.2
             }
            },
            "type": "barpolar"
           }
          ],
          "carpet": [
           {
            "aaxis": {
             "endlinecolor": "#2a3f5f",
             "gridcolor": "#C8D4E3",
             "linecolor": "#C8D4E3",
             "minorgridcolor": "#C8D4E3",
             "startlinecolor": "#2a3f5f"
            },
            "baxis": {
             "endlinecolor": "#2a3f5f",
             "gridcolor": "#C8D4E3",
             "linecolor": "#C8D4E3",
             "minorgridcolor": "#C8D4E3",
             "startlinecolor": "#2a3f5f"
            },
            "type": "carpet"
           }
          ],
          "choropleth": [
           {
            "colorbar": {
             "outlinewidth": 0,
             "ticks": ""
            },
            "type": "choropleth"
           }
          ],
          "contour": [
           {
            "colorbar": {
             "outlinewidth": 0,
             "ticks": ""
            },
            "colorscale": [
             [
              0,
              "#0d0887"
             ],
             [
              0.1111111111111111,
              "#46039f"
             ],
             [
              0.2222222222222222,
              "#7201a8"
             ],
             [
              0.3333333333333333,
              "#9c179e"
             ],
             [
              0.4444444444444444,
              "#bd3786"
             ],
             [
              0.5555555555555556,
              "#d8576b"
             ],
             [
              0.6666666666666666,
              "#ed7953"
             ],
             [
              0.7777777777777778,
              "#fb9f3a"
             ],
             [
              0.8888888888888888,
              "#fdca26"
             ],
             [
              1,
              "#f0f921"
             ]
            ],
            "type": "contour"
           }
          ],
          "contourcarpet": [
           {
            "colorbar": {
             "outlinewidth": 0,
             "ticks": ""
            },
            "type": "contourcarpet"
           }
          ],
          "heatmap": [
           {
            "colorbar": {
             "outlinewidth": 0,
             "ticks": ""
            },
            "colorscale": [
             [
              0,
              "#0d0887"
             ],
             [
              0.1111111111111111,
              "#46039f"
             ],
             [
              0.2222222222222222,
              "#7201a8"
             ],
             [
              0.3333333333333333,
              "#9c179e"
             ],
             [
              0.4444444444444444,
              "#bd3786"
             ],
             [
              0.5555555555555556,
              "#d8576b"
             ],
             [
              0.6666666666666666,
              "#ed7953"
             ],
             [
              0.7777777777777778,
              "#fb9f3a"
             ],
             [
              0.8888888888888888,
              "#fdca26"
             ],
             [
              1,
              "#f0f921"
             ]
            ],
            "type": "heatmap"
           }
          ],
          "heatmapgl": [
           {
            "colorbar": {
             "outlinewidth": 0,
             "ticks": ""
            },
            "colorscale": [
             [
              0,
              "#0d0887"
             ],
             [
              0.1111111111111111,
              "#46039f"
             ],
             [
              0.2222222222222222,
              "#7201a8"
             ],
             [
              0.3333333333333333,
              "#9c179e"
             ],
             [
              0.4444444444444444,
              "#bd3786"
             ],
             [
              0.5555555555555556,
              "#d8576b"
             ],
             [
              0.6666666666666666,
              "#ed7953"
             ],
             [
              0.7777777777777778,
              "#fb9f3a"
             ],
             [
              0.8888888888888888,
              "#fdca26"
             ],
             [
              1,
              "#f0f921"
             ]
            ],
            "type": "heatmapgl"
           }
          ],
          "histogram": [
           {
            "marker": {
             "pattern": {
              "fillmode": "overlay",
              "size": 10,
              "solidity": 0.2
             }
            },
            "type": "histogram"
           }
          ],
          "histogram2d": [
           {
            "colorbar": {
             "outlinewidth": 0,
             "ticks": ""
            },
            "colorscale": [
             [
              0,
              "#0d0887"
             ],
             [
              0.1111111111111111,
              "#46039f"
             ],
             [
              0.2222222222222222,
              "#7201a8"
             ],
             [
              0.3333333333333333,
              "#9c179e"
             ],
             [
              0.4444444444444444,
              "#bd3786"
             ],
             [
              0.5555555555555556,
              "#d8576b"
             ],
             [
              0.6666666666666666,
              "#ed7953"
             ],
             [
              0.7777777777777778,
              "#fb9f3a"
             ],
             [
              0.8888888888888888,
              "#fdca26"
             ],
             [
              1,
              "#f0f921"
             ]
            ],
            "type": "histogram2d"
           }
          ],
          "histogram2dcontour": [
           {
            "colorbar": {
             "outlinewidth": 0,
             "ticks": ""
            },
            "colorscale": [
             [
              0,
              "#0d0887"
             ],
             [
              0.1111111111111111,
              "#46039f"
             ],
             [
              0.2222222222222222,
              "#7201a8"
             ],
             [
              0.3333333333333333,
              "#9c179e"
             ],
             [
              0.4444444444444444,
              "#bd3786"
             ],
             [
              0.5555555555555556,
              "#d8576b"
             ],
             [
              0.6666666666666666,
              "#ed7953"
             ],
             [
              0.7777777777777778,
              "#fb9f3a"
             ],
             [
              0.8888888888888888,
              "#fdca26"
             ],
             [
              1,
              "#f0f921"
             ]
            ],
            "type": "histogram2dcontour"
           }
          ],
          "mesh3d": [
           {
            "colorbar": {
             "outlinewidth": 0,
             "ticks": ""
            },
            "type": "mesh3d"
           }
          ],
          "parcoords": [
           {
            "line": {
             "colorbar": {
              "outlinewidth": 0,
              "ticks": ""
             }
            },
            "type": "parcoords"
           }
          ],
          "pie": [
           {
            "automargin": true,
            "type": "pie"
           }
          ],
          "scatter": [
           {
            "fillpattern": {
             "fillmode": "overlay",
             "size": 10,
             "solidity": 0.2
            },
            "type": "scatter"
           }
          ],
          "scatter3d": [
           {
            "line": {
             "colorbar": {
              "outlinewidth": 0,
              "ticks": ""
             }
            },
            "marker": {
             "colorbar": {
              "outlinewidth": 0,
              "ticks": ""
             }
            },
            "type": "scatter3d"
           }
          ],
          "scattercarpet": [
           {
            "marker": {
             "colorbar": {
              "outlinewidth": 0,
              "ticks": ""
             }
            },
            "type": "scattercarpet"
           }
          ],
          "scattergeo": [
           {
            "marker": {
             "colorbar": {
              "outlinewidth": 0,
              "ticks": ""
             }
            },
            "type": "scattergeo"
           }
          ],
          "scattergl": [
           {
            "marker": {
             "colorbar": {
              "outlinewidth": 0,
              "ticks": ""
             }
            },
            "type": "scattergl"
           }
          ],
          "scattermapbox": [
           {
            "marker": {
             "colorbar": {
              "outlinewidth": 0,
              "ticks": ""
             }
            },
            "type": "scattermapbox"
           }
          ],
          "scatterpolar": [
           {
            "marker": {
             "colorbar": {
              "outlinewidth": 0,
              "ticks": ""
             }
            },
            "type": "scatterpolar"
           }
          ],
          "scatterpolargl": [
           {
            "marker": {
             "colorbar": {
              "outlinewidth": 0,
              "ticks": ""
             }
            },
            "type": "scatterpolargl"
           }
          ],
          "scatterternary": [
           {
            "marker": {
             "colorbar": {
              "outlinewidth": 0,
              "ticks": ""
             }
            },
            "type": "scatterternary"
           }
          ],
          "surface": [
           {
            "colorbar": {
             "outlinewidth": 0,
             "ticks": ""
            },
            "colorscale": [
             [
              0,
              "#0d0887"
             ],
             [
              0.1111111111111111,
              "#46039f"
             ],
             [
              0.2222222222222222,
              "#7201a8"
             ],
             [
              0.3333333333333333,
              "#9c179e"
             ],
             [
              0.4444444444444444,
              "#bd3786"
             ],
             [
              0.5555555555555556,
              "#d8576b"
             ],
             [
              0.6666666666666666,
              "#ed7953"
             ],
             [
              0.7777777777777778,
              "#fb9f3a"
             ],
             [
              0.8888888888888888,
              "#fdca26"
             ],
             [
              1,
              "#f0f921"
             ]
            ],
            "type": "surface"
           }
          ],
          "table": [
           {
            "cells": {
             "fill": {
              "color": "#EBF0F8"
             },
             "line": {
              "color": "white"
             }
            },
            "header": {
             "fill": {
              "color": "#C8D4E3"
             },
             "line": {
              "color": "white"
             }
            },
            "type": "table"
           }
          ]
         },
         "layout": {
          "annotationdefaults": {
           "arrowcolor": "#2a3f5f",
           "arrowhead": 0,
           "arrowwidth": 1
          },
          "autotypenumbers": "strict",
          "coloraxis": {
           "colorbar": {
            "outlinewidth": 0,
            "ticks": ""
           }
          },
          "colorscale": {
           "diverging": [
            [
             0,
             "#8e0152"
            ],
            [
             0.1,
             "#c51b7d"
            ],
            [
             0.2,
             "#de77ae"
            ],
            [
             0.3,
             "#f1b6da"
            ],
            [
             0.4,
             "#fde0ef"
            ],
            [
             0.5,
             "#f7f7f7"
            ],
            [
             0.6,
             "#e6f5d0"
            ],
            [
             0.7,
             "#b8e186"
            ],
            [
             0.8,
             "#7fbc41"
            ],
            [
             0.9,
             "#4d9221"
            ],
            [
             1,
             "#276419"
            ]
           ],
           "sequential": [
            [
             0,
             "#0d0887"
            ],
            [
             0.1111111111111111,
             "#46039f"
            ],
            [
             0.2222222222222222,
             "#7201a8"
            ],
            [
             0.3333333333333333,
             "#9c179e"
            ],
            [
             0.4444444444444444,
             "#bd3786"
            ],
            [
             0.5555555555555556,
             "#d8576b"
            ],
            [
             0.6666666666666666,
             "#ed7953"
            ],
            [
             0.7777777777777778,
             "#fb9f3a"
            ],
            [
             0.8888888888888888,
             "#fdca26"
            ],
            [
             1,
             "#f0f921"
            ]
           ],
           "sequentialminus": [
            [
             0,
             "#0d0887"
            ],
            [
             0.1111111111111111,
             "#46039f"
            ],
            [
             0.2222222222222222,
             "#7201a8"
            ],
            [
             0.3333333333333333,
             "#9c179e"
            ],
            [
             0.4444444444444444,
             "#bd3786"
            ],
            [
             0.5555555555555556,
             "#d8576b"
            ],
            [
             0.6666666666666666,
             "#ed7953"
            ],
            [
             0.7777777777777778,
             "#fb9f3a"
            ],
            [
             0.8888888888888888,
             "#fdca26"
            ],
            [
             1,
             "#f0f921"
            ]
           ]
          },
          "colorway": [
           "#636efa",
           "#EF553B",
           "#00cc96",
           "#ab63fa",
           "#FFA15A",
           "#19d3f3",
           "#FF6692",
           "#B6E880",
           "#FF97FF",
           "#FECB52"
          ],
          "font": {
           "color": "#2a3f5f"
          },
          "geo": {
           "bgcolor": "white",
           "lakecolor": "white",
           "landcolor": "white",
           "showlakes": true,
           "showland": true,
           "subunitcolor": "#C8D4E3"
          },
          "hoverlabel": {
           "align": "left"
          },
          "hovermode": "closest",
          "mapbox": {
           "style": "light"
          },
          "paper_bgcolor": "white",
          "plot_bgcolor": "white",
          "polar": {
           "angularaxis": {
            "gridcolor": "#EBF0F8",
            "linecolor": "#EBF0F8",
            "ticks": ""
           },
           "bgcolor": "white",
           "radialaxis": {
            "gridcolor": "#EBF0F8",
            "linecolor": "#EBF0F8",
            "ticks": ""
           }
          },
          "scene": {
           "xaxis": {
            "backgroundcolor": "white",
            "gridcolor": "#DFE8F3",
            "gridwidth": 2,
            "linecolor": "#EBF0F8",
            "showbackground": true,
            "ticks": "",
            "zerolinecolor": "#EBF0F8"
           },
           "yaxis": {
            "backgroundcolor": "white",
            "gridcolor": "#DFE8F3",
            "gridwidth": 2,
            "linecolor": "#EBF0F8",
            "showbackground": true,
            "ticks": "",
            "zerolinecolor": "#EBF0F8"
           },
           "zaxis": {
            "backgroundcolor": "white",
            "gridcolor": "#DFE8F3",
            "gridwidth": 2,
            "linecolor": "#EBF0F8",
            "showbackground": true,
            "ticks": "",
            "zerolinecolor": "#EBF0F8"
           }
          },
          "shapedefaults": {
           "line": {
            "color": "#2a3f5f"
           }
          },
          "ternary": {
           "aaxis": {
            "gridcolor": "#DFE8F3",
            "linecolor": "#A2B1C6",
            "ticks": ""
           },
           "baxis": {
            "gridcolor": "#DFE8F3",
            "linecolor": "#A2B1C6",
            "ticks": ""
           },
           "bgcolor": "white",
           "caxis": {
            "gridcolor": "#DFE8F3",
            "linecolor": "#A2B1C6",
            "ticks": ""
           }
          },
          "title": {
           "x": 0.05
          },
          "xaxis": {
           "automargin": true,
           "gridcolor": "#EBF0F8",
           "linecolor": "#EBF0F8",
           "ticks": "",
           "title": {
            "standoff": 15
           },
           "zerolinecolor": "#EBF0F8",
           "zerolinewidth": 2
          },
          "yaxis": {
           "automargin": true,
           "gridcolor": "#EBF0F8",
           "linecolor": "#EBF0F8",
           "ticks": "",
           "title": {
            "standoff": 15
           },
           "zerolinecolor": "#EBF0F8",
           "zerolinewidth": 2
          }
         }
        },
        "title": {
         "text": "Dynamic Event Points"
        },
        "width": 800,
        "xaxis": {
         "categoryorder": "total descending",
         "title": {
          "text": "Car Configuration"
         }
        },
        "yaxis": {
         "title": {
          "text": "Points"
         }
        }
       }
      }
     },
     "metadata": {},
     "output_type": "display_data"
    }
   ],
   "source": [
    "# Assuming ucm23_* variables are defined somewhere in the global scope\n",
    "# cars is a list of Car objects\n",
    "# cars_list = [...]  # List of Car objects\n",
    "\n",
    "# Create an empty list to store the data\n",
    "data = []\n",
    "\n",
    "# Loop through each car and extract the necessary information\n",
    "for car in cars_list:\n",
    "    data.append({\n",
    "        'CarConfig': car.name,\n",
    "        'Skidpad': car.skidpad_points,\n",
    "        'Accel': car.accel_points,\n",
    "        'Autocross': car.autocross_points,\n",
    "        'Endurance': car.endurance_points,\n",
    "        'Efficiency': car.efficiency_points\n",
    "    })\n",
    "\n",
    "data.append({\n",
    "        'CarConfig': 'Points split',\n",
    "        'Skidpad': 75,\n",
    "        'Accel': 100,\n",
    "        'Autocross': 125,\n",
    "        'Endurance': 275,\n",
    "        'Efficiency': 100\n",
    "    })\n",
    "\n",
    "# Create a pandas DataFrame from the list of dictionaries\n",
    "cars_df = pd.DataFrame(data)\n",
    "\n",
    "# Display the DataFrame\n",
    "print(cars_df)\n",
    "print()\n",
    "for car in cars_list:\n",
    "    print(f'{car.name}| Skidpad: {car.skidpadtime}  Autocross: {car.autocrosstime}  Acceleration: {car.acceltime}  Energy per lap: {car.energyperlap}')\n",
    "\n",
    "# Plotly stacked bar chart using go.Figure to fully customize trace text\n",
    "import plotly.graph_objects as go\n",
    "\n",
    "# List of event categories\n",
    "categories = ['Skidpad', 'Accel', 'Autocross', 'Endurance', 'Efficiency']\n",
    "colors = ['#636EFA', '#EF553B', '#00CC96', '#AB63FA', '#FFA15A']\n",
    "\n",
    "# Create figure\n",
    "fig = go.Figure()\n",
    "\n",
    "# Add bars for each event category with individual text inside each bar\n",
    "for i, category in enumerate(categories):\n",
    "    fig.add_trace(go.Bar(\n",
    "        x=cars_df['CarConfig'],\n",
    "        y=cars_df[category],\n",
    "        name=category,\n",
    "        text=cars_df[category],  # Add points as text\n",
    "        texttemplate='%{text:.2f}',  # Format the text to 2 decimal places\n",
    "        textposition='inside',  # Position text inside the bars\n",
    "        marker_color=colors[i]  # Assign different colors for each category\n",
    "    ))\n",
    "\n",
    "# Update layout for stacked bars\n",
    "fig.update_layout(\n",
    "    barmode='stack',\n",
    "    title=\"Dynamic Event Points\",\n",
    "    xaxis_title=\"Car Configuration\",\n",
    "    yaxis_title=\"Points\",\n",
    "    legend_title=\"Events\",\n",
    "    xaxis={'categoryorder': 'total descending'},\n",
    "    height=600,\n",
    "    width=800\n",
    ")\n",
    "\n",
    "# Show the figure\n",
    "fig.show()\n",
    "\n"
   ]
  }
 ],
 "metadata": {
  "kernelspec": {
   "display_name": "Python 3 (ipykernel)",
   "language": "python",
   "name": "python3"
  },
  "language_info": {
   "codemirror_mode": {
    "name": "ipython",
    "version": 3
   },
   "file_extension": ".py",
   "mimetype": "text/x-python",
   "name": "python",
   "nbconvert_exporter": "python",
   "pygments_lexer": "ipython3",
   "version": "3.11.7"
  }
 },
 "nbformat": 4,
 "nbformat_minor": 4
}
